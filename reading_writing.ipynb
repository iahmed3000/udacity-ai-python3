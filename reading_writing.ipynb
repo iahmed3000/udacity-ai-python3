{
  "nbformat": 4,
  "nbformat_minor": 0,
  "metadata": {
    "colab": {
      "name": "reading-writing.ipynb",
      "provenance": [],
      "authorship_tag": "ABX9TyOdXJqWpjHB/hAjHnSXVBCG",
      "include_colab_link": true
    },
    "kernelspec": {
      "name": "python3",
      "display_name": "Python 3"
    }
  },
  "cells": [
    {
      "cell_type": "markdown",
      "metadata": {
        "id": "view-in-github",
        "colab_type": "text"
      },
      "source": [
        "<a href=\"https://colab.research.google.com/github/iahmed3000/udacity-ai-python3/blob/master/reading_writing.ipynb\" target=\"_parent\"><img src=\"https://colab.research.google.com/assets/colab-badge.svg\" alt=\"Open In Colab\"/></a>"
      ]
    },
    {
      "cell_type": "code",
      "metadata": {
        "id": "5sOjmd-8dTkW",
        "colab_type": "code",
        "colab": {}
      },
      "source": [
        "\"\"\"Reading a file\"\"\"\n",
        "f = open(\"C:\\\\Users\\\\user\\\\anaconda3\\\\read_file.txt\",\"r\")# r indicates read only\n",
        "file_data = f.read()\n",
        "f.close()\n",
        "print(file_data)"
      ],
      "execution_count": 0,
      "outputs": []
    },
    {
      "cell_type": "code",
      "metadata": {
        "id": "WJZNam8mdZ1Z",
        "colab_type": "code",
        "colab": {}
      },
      "source": [
        "\"\"\"Writing a file, not available python creates one\"\"\"\n",
        "f = open(\"C:\\\\Users\\\\user\\\\anaconda3\\\\read_file2.txt\", 'w')\n",
        "f.write(\"Hello there!\")\n",
        "f.close()"
      ],
      "execution_count": 0,
      "outputs": []
    },
    {
      "cell_type": "code",
      "metadata": {
        "id": "UqT2Htu22bh4",
        "colab_type": "code",
        "colab": {}
      },
      "source": [
        "#Using with, when used no need to call close()\n",
        "\n",
        "with open('my_path/my_file.txt', 'r') as f:\n",
        "    file_data = f.read()"
      ],
      "execution_count": 0,
      "outputs": []
    }
  ]
}