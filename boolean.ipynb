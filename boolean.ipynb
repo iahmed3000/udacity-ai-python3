{
  "nbformat": 4,
  "nbformat_minor": 0,
  "metadata": {
    "colab": {
      "name": "boolean.ipynb",
      "provenance": [],
      "collapsed_sections": [],
      "authorship_tag": "ABX9TyP1sVUkjtUn4WxYiIr7IkxB",
      "include_colab_link": true
    },
    "kernelspec": {
      "name": "python3",
      "display_name": "Python 3"
    }
  },
  "cells": [
    {
      "cell_type": "markdown",
      "metadata": {
        "id": "view-in-github",
        "colab_type": "text"
      },
      "source": [
        "<a href=\"https://colab.research.google.com/github/iahmed3000/udacity-ai-python3/blob/master/boolean.ipynb\" target=\"_parent\"><img src=\"https://colab.research.google.com/assets/colab-badge.svg\" alt=\"Open In Colab\"/></a>"
      ]
    },
    {
      "cell_type": "code",
      "metadata": {
        "id": "Rc3BgmnOUH2K",
        "colab_type": "code",
        "colab": {
          "base_uri": "https://localhost:8080/",
          "height": 34
        },
        "outputId": "ab113f8d-67db-4480-fda0-7a95a7afc70c"
      },
      "source": [
        "points=51\n",
        "prize=\"\"\n",
        "\n",
        "if points <= 50:\n",
        "    prize=\"wooden rabbit\"\n",
        "elif 151 <= points <= 180:\n",
        "    prize=\"wafer-thin mint\"\n",
        "elif points >= 181:\n",
        "    prize=\"penguin\"\n",
        "\n",
        "if prize:\n",
        "    print(\"Congrats you won {} prize\".format(prize))\n",
        "else:\n",
        "    print(\"Try again\")"
      ],
      "execution_count": 8,
      "outputs": [
        {
          "output_type": "stream",
          "text": [
            "Try again\n"
          ],
          "name": "stdout"
        }
      ]
    }
  ]
}