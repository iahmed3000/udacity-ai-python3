{
  "nbformat": 4,
  "nbformat_minor": 0,
  "metadata": {
    "colab": {
      "name": "if.ipynb",
      "provenance": [],
      "collapsed_sections": [],
      "authorship_tag": "ABX9TyOjCVf1j85iNYIvOBXdg7Cl",
      "include_colab_link": true
    },
    "kernelspec": {
      "name": "python3",
      "display_name": "Python 3"
    }
  },
  "cells": [
    {
      "cell_type": "markdown",
      "metadata": {
        "id": "view-in-github",
        "colab_type": "text"
      },
      "source": [
        "<a href=\"https://colab.research.google.com/github/iahmed3000/udacity-ai-python3/blob/master/if.ipynb\" target=\"_parent\"><img src=\"https://colab.research.google.com/assets/colab-badge.svg\" alt=\"Open In Colab\"/></a>"
      ]
    },
    {
      "cell_type": "code",
      "metadata": {
        "id": "KjGFW3hYH4Ik",
        "colab_type": "code",
        "outputId": "493e2f4a-9173-4cfb-8ee6-e80dece084b8",
        "colab": {
          "base_uri": "https://localhost:8080/",
          "height": 34
        }
      },
      "source": [
        "answer=10\n",
        "guess=10\n",
        "\n",
        "if guess<answer:\n",
        "    print(\"Your guess is low\")\n",
        "elif guess>answer:\n",
        "    print(\"Your guess too high!\")\n",
        "else:\n",
        "    print(\"You got it\")\n",
        "    \n"
      ],
      "execution_count": 0,
      "outputs": [
        {
          "output_type": "stream",
          "text": [
            "You got it\n"
          ],
          "name": "stdout"
        }
      ]
    },
    {
      "cell_type": "code",
      "metadata": {
        "id": "88h57aqiNmJJ",
        "colab_type": "code",
        "outputId": "853a3c34-c550-4b4e-f90e-207cf4de9a5c",
        "colab": {
          "base_uri": "https://localhost:8080/",
          "height": 34
        }
      },
      "source": [
        "state=\"CA\"\n",
        "purchase_amount=20\n",
        "\n",
        "if state==\"CA\":\n",
        "    tax_amount=0.75\n",
        "    total_cost=purchase_amount+(1+tax_amount)\n",
        "    result=\"Since you are from {}, your total cost is {}\".format(state,total_cost)\n",
        "    print(result)\n",
        "elif state==\"MN\":\n",
        "    tax_amount=0.95\n",
        "    total_cost=purchase_amount+(1+tax_amount)\n",
        "    result=\"Since you are from {}, your total cost is {}\".format(state,total_cost)\n",
        "    print(result)\n",
        "elif state==\"NY\":\n",
        "    tax_amount=0.089\n",
        "    total_cost=purchase_amount+(1+tax_amount)\n",
        "    result=\"Since you are from {}, your total cost is {}\".format(state,total_cost)\n",
        "    print(result)\n",
        "    \n",
        "else:\n",
        "    print(\"Unknown state\")\n"
      ],
      "execution_count": 0,
      "outputs": [
        {
          "output_type": "stream",
          "text": [
            "Since you are from CA, your total cost is 21.75\n"
          ],
          "name": "stdout"
        }
      ]
    }
  ]
}