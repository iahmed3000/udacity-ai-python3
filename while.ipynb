{
  "nbformat": 4,
  "nbformat_minor": 0,
  "metadata": {
    "colab": {
      "name": "while.ipynb",
      "provenance": [],
      "authorship_tag": "ABX9TyMRhjIHYWsMujiZCtB41Gdk",
      "include_colab_link": true
    },
    "kernelspec": {
      "name": "python3",
      "display_name": "Python 3"
    }
  },
  "cells": [
    {
      "cell_type": "markdown",
      "metadata": {
        "id": "view-in-github",
        "colab_type": "text"
      },
      "source": [
        "<a href=\"https://colab.research.google.com/github/iahmed3000/udacity-ai-python3/blob/master/while.ipynb\" target=\"_parent\"><img src=\"https://colab.research.google.com/assets/colab-badge.svg\" alt=\"Open In Colab\"/></a>"
      ]
    },
    {
      "cell_type": "code",
      "metadata": {
        "id": "opOfzvjjMP-Q",
        "colab_type": "code",
        "colab": {
          "base_uri": "https://localhost:8080/",
          "height": 52
        },
        "outputId": "566fd959-9278-4784-86d2-f1facec1fd62"
      },
      "source": [
        "card_deck = [4, 11, 8, 5, 13, 2, 8, 10]\n",
        "hand = []\n",
        "\n",
        "# adds the last element of the card_deck list to the hand list\n",
        "# until the values in hand add up to 17 or more\n",
        "while sum(hand)  < 17:\n",
        "    hand.append(card_deck.pop())\n",
        "print(hand)\n",
        "print(card_deck)"
      ],
      "execution_count": 2,
      "outputs": [
        {
          "output_type": "stream",
          "text": [
            "[10, 8]\n",
            "[4, 11, 8, 5, 13, 2]\n"
          ],
          "name": "stdout"
        }
      ]
    },
    {
      "cell_type": "code",
      "metadata": {
        "id": "E4jhmkjwPJRJ",
        "colab_type": "code",
        "colab": {
          "base_uri": "https://localhost:8080/",
          "height": 34
        },
        "outputId": "096d36d6-5c51-4b05-890a-0a597c376828"
      },
      "source": [
        "# number to find the factorial of\n",
        "number = 6\n",
        "# start with our product equal to one\n",
        "product = 1\n",
        "# track the current number being multiplied\n",
        "current = 1\n",
        "\n",
        "while  current <= number:\n",
        "    # multiply the product so far by the current number\n",
        "    product *= current\n",
        "    # increment current with each iteration until it reaches number\n",
        "    current += 1\n",
        "\n",
        "\n",
        "# print the factorial of number\n",
        "print(product)"
      ],
      "execution_count": 3,
      "outputs": [
        {
          "output_type": "stream",
          "text": [
            "720\n"
          ],
          "name": "stdout"
        }
      ]
    },
    {
      "cell_type": "code",
      "metadata": {
        "id": "jcQ9KoSDPSRD",
        "colab_type": "code",
        "colab": {
          "base_uri": "https://localhost:8080/",
          "height": 34
        },
        "outputId": "508c95f8-2658-45b9-842c-1a12fae83fcb"
      },
      "source": [
        "start_num = 5\n",
        "end_num = 100\n",
        "count_by = 2\n",
        "\n",
        "break_num = start_num\n",
        "while break_num < end_num:\n",
        "    break_num += count_by\n",
        "\n",
        "print(break_num)"
      ],
      "execution_count": 4,
      "outputs": [
        {
          "output_type": "stream",
          "text": [
            "101\n"
          ],
          "name": "stdout"
        }
      ]
    },
    {
      "cell_type": "code",
      "metadata": {
        "id": "H5yCS1JyPwqT",
        "colab_type": "code",
        "colab": {
          "base_uri": "https://localhost:8080/",
          "height": 34
        },
        "outputId": "58bca1cf-c08d-4682-b75b-3b7618270c11"
      },
      "source": [
        "start_num = 5\n",
        "end_num = 100\n",
        "count_by = 2\n",
        "\n",
        "if start_num > end_num:\n",
        "    result = \"Oops! Looks like your start value is greater than the end value. Please try again.\"\n",
        "\n",
        "else:\n",
        "    break_num = start_num\n",
        "    while break_num < end_num:\n",
        "        break_num += count_by\n",
        "\n",
        "    result = break_num\n",
        "\n",
        "print(result)"
      ],
      "execution_count": 5,
      "outputs": [
        {
          "output_type": "stream",
          "text": [
            "101\n"
          ],
          "name": "stdout"
        }
      ]
    },
    {
      "cell_type": "code",
      "metadata": {
        "id": "fyFWEsJtP_fb",
        "colab_type": "code",
        "colab": {
          "base_uri": "https://localhost:8080/",
          "height": 34
        },
        "outputId": "2dd1f000-e999-43d8-fa16-1c757dbbbb93"
      },
      "source": [
        "limit = 40\n",
        "\n",
        "num = 0\n",
        "while (num+1)**2 < limit:\n",
        "    num += 1\n",
        "nearest_square = num**2\n",
        "\n",
        "print(nearest_square)"
      ],
      "execution_count": 6,
      "outputs": [
        {
          "output_type": "stream",
          "text": [
            "36\n"
          ],
          "name": "stdout"
        }
      ]
    }
  ]
}