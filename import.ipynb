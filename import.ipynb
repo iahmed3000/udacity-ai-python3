{
  "nbformat": 4,
  "nbformat_minor": 0,
  "metadata": {
    "colab": {
      "name": "import.ipynb",
      "provenance": [],
      "authorship_tag": "ABX9TyMIcElTVrOCbYPe4A3XLAlS",
      "include_colab_link": true
    },
    "kernelspec": {
      "name": "python3",
      "display_name": "Python 3"
    }
  },
  "cells": [
    {
      "cell_type": "markdown",
      "metadata": {
        "id": "view-in-github",
        "colab_type": "text"
      },
      "source": [
        "<a href=\"https://colab.research.google.com/github/iahmed3000/udacity-ai-python3/blob/master/import.ipynb\" target=\"_parent\"><img src=\"https://colab.research.google.com/assets/colab-badge.svg\" alt=\"Open In Colab\"/></a>"
      ]
    },
    {
      "cell_type": "code",
      "metadata": {
        "id": "nmv1l0OV5f6a",
        "colab_type": "code",
        "outputId": "73f28283-b995-4870-a139-84a7a78c7bd7",
        "colab": {
          "base_uri": "https://localhost:8080/",
          "height": 381
        }
      },
      "source": [
        "# demo.py\n",
        "\n",
        "import useful_functions as uf\n",
        "\n",
        "scores = [88, 92, 79, 93, 85]\n",
        "\n",
        "mean = uf.mean(scores)\n",
        "curved = uf.add_five(scores)\n",
        "\n",
        "mean_c = uf.mean(curved)\n",
        "\n",
        "print(\"Scores:\", scores)\n",
        "print(\"Original Mean:\", mean, \" New Mean:\", mean_c)\n",
        "\n",
        "print(__name__)\n",
        "print(uf.__name__)\n",
        "\n",
        "# useful_functions.py\n",
        "\n",
        "def mean(num_list):\n",
        "    return sum(num_list) / len(num_list)\n",
        "\n",
        "def add_five(num_list):\n",
        "    return [n + 5 for n in num_list]\n",
        "\n",
        "def main():\n",
        "    print(\"Testing mean function\")\n",
        "    n_list = [34, 44, 23, 46, 12, 24]\n",
        "    correct_mean = 30.5\n",
        "    assert(mean(n_list) == correct_mean)\n",
        "\n",
        "    print(\"Testing add_five function\")\n",
        "    correct_list = [39, 49, 28, 51, 17, 29]\n",
        "    assert(add_five(n_list) == correct_list)\n",
        "\n",
        "    print(\"All tests passed!\")\n",
        "\n",
        "if __name__ == '__main__':\n",
        "    main()"
      ],
      "execution_count": 0,
      "outputs": [
        {
          "output_type": "error",
          "ename": "ModuleNotFoundError",
          "evalue": "ignored",
          "traceback": [
            "\u001b[0;31m---------------------------------------------------------------------------\u001b[0m",
            "\u001b[0;31mModuleNotFoundError\u001b[0m                       Traceback (most recent call last)",
            "\u001b[0;32m<ipython-input-3-396b98e1ec04>\u001b[0m in \u001b[0;36m<module>\u001b[0;34m()\u001b[0m\n\u001b[1;32m      1\u001b[0m \u001b[0;34m\u001b[0m\u001b[0m\n\u001b[0;32m----> 2\u001b[0;31m \u001b[0;32mimport\u001b[0m \u001b[0museful_functions\u001b[0m \u001b[0;32mas\u001b[0m \u001b[0muf\u001b[0m\u001b[0;34m\u001b[0m\u001b[0;34m\u001b[0m\u001b[0m\n\u001b[0m\u001b[1;32m      3\u001b[0m \u001b[0;34m\u001b[0m\u001b[0m\n\u001b[1;32m      4\u001b[0m \u001b[0mscores\u001b[0m \u001b[0;34m=\u001b[0m \u001b[0;34m[\u001b[0m\u001b[0;36m88\u001b[0m\u001b[0;34m,\u001b[0m \u001b[0;36m92\u001b[0m\u001b[0;34m,\u001b[0m \u001b[0;36m79\u001b[0m\u001b[0;34m,\u001b[0m \u001b[0;36m93\u001b[0m\u001b[0;34m,\u001b[0m \u001b[0;36m85\u001b[0m\u001b[0;34m]\u001b[0m\u001b[0;34m\u001b[0m\u001b[0;34m\u001b[0m\u001b[0m\n\u001b[1;32m      5\u001b[0m \u001b[0;34m\u001b[0m\u001b[0m\n",
            "\u001b[0;31mModuleNotFoundError\u001b[0m: No module named 'useful_functions'",
            "",
            "\u001b[0;31m---------------------------------------------------------------------------\u001b[0;32m\nNOTE: If your import is failing due to a missing package, you can\nmanually install dependencies using either !pip or !apt.\n\nTo view examples of installing some common dependencies, click the\n\"Open Examples\" button below.\n\u001b[0;31m---------------------------------------------------------------------------\u001b[0m\n"
          ]
        }
      ]
    },
    {
      "cell_type": "code",
      "metadata": {
        "id": "SQAJj2ryUb4B",
        "colab_type": "code",
        "colab": {}
      },
      "source": [
        "# test.py\n",
        "import mymath\n",
        "print(mymath.add_num(2,5))\n",
        "print(__name__)\n",
        "print(mymath.__name__)\n",
        "\n",
        "#mymath.py\n",
        "def add_num(a,b):\n",
        "\treturn a+b\n",
        "\n",
        "if __name__ == '__main__':\n",
        "\tprint(add_num(10,10))\n",
        " \n",
        "\n",
        "\"\"\" another way of calling using from keyword. Create directory(eg myfiles) and from directory call the file(eg mymath2.py)\"\"\"\n",
        "# test2.py\n",
        "from myfiles import mymath2\n",
        "print(mymath2.add_num(2,5))\n",
        "print(__name__)\n",
        "print(mymath2.__name__)"
      ],
      "execution_count": 0,
      "outputs": []
    }
  ]
}