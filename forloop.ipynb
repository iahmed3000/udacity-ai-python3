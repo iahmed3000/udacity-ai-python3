{
  "nbformat": 4,
  "nbformat_minor": 0,
  "metadata": {
    "colab": {
      "name": "forloop.ipynb",
      "provenance": [],
      "authorship_tag": "ABX9TyMOgDQJFLZEMRA3jJHPIHTu",
      "include_colab_link": true
    },
    "kernelspec": {
      "name": "python3",
      "display_name": "Python 3"
    }
  },
  "cells": [
    {
      "cell_type": "markdown",
      "metadata": {
        "id": "view-in-github",
        "colab_type": "text"
      },
      "source": [
        "<a href=\"https://colab.research.google.com/github/iahmed3000/udacity-ai-python3/blob/master/forloop.ipynb\" target=\"_parent\"><img src=\"https://colab.research.google.com/assets/colab-badge.svg\" alt=\"Open In Colab\"/></a>"
      ]
    },
    {
      "cell_type": "code",
      "metadata": {
        "id": "bzQKw9YuRpnX",
        "colab_type": "code",
        "colab": {
          "base_uri": "https://localhost:8080/",
          "height": 105
        },
        "outputId": "c75dcc9e-18ea-4325-a9bf-b1add37aa650"
      },
      "source": [
        "cities = ['new york city', 'mountain view', 'chicago', 'los angeles']\n",
        "for city in cities:\n",
        "    print(city)\n",
        "print(\"Done!\")"
      ],
      "execution_count": 8,
      "outputs": [
        {
          "output_type": "stream",
          "text": [
            "new york city\n",
            "mountain view\n",
            "chicago\n",
            "los angeles\n",
            "Done!\n"
          ],
          "name": "stdout"
        }
      ]
    },
    {
      "cell_type": "code",
      "metadata": {
        "id": "WjPo5ff4TlUv",
        "colab_type": "code",
        "colab": {
          "base_uri": "https://localhost:8080/",
          "height": 105
        },
        "outputId": "7fe69081-9960-4057-989b-9082d844d2ea"
      },
      "source": [
        "for i in range(5):\n",
        "    print(\"Hello!\")"
      ],
      "execution_count": 9,
      "outputs": [
        {
          "output_type": "stream",
          "text": [
            "Hello!\n",
            "Hello!\n",
            "Hello!\n",
            "Hello!\n",
            "Hello!\n"
          ],
          "name": "stdout"
        }
      ]
    },
    {
      "cell_type": "code",
      "metadata": {
        "id": "Bog3Bo3eULlm",
        "colab_type": "code",
        "colab": {
          "base_uri": "https://localhost:8080/",
          "height": 34
        },
        "outputId": "53bf09bc-be8f-47f1-81db-a52b728661f6"
      },
      "source": [
        "# Creating a new list\n",
        "cities = ['new york city', 'mountain view', 'chicago', 'los angeles']\n",
        "capitalized_cities = []\n",
        "\n",
        "for city in cities:\n",
        "    capitalized_cities.append(city.title())\n",
        "    \n",
        "print(capitalized_cities)"
      ],
      "execution_count": 13,
      "outputs": [
        {
          "output_type": "stream",
          "text": [
            "['New York City', 'Mountain View', 'Chicago', 'Los Angeles']\n"
          ],
          "name": "stdout"
        }
      ]
    },
    {
      "cell_type": "code",
      "metadata": {
        "id": "pyvNobUSVOpf",
        "colab_type": "code",
        "colab": {
          "base_uri": "https://localhost:8080/",
          "height": 176
        },
        "outputId": "95c58005-5eb5-4fec-ee01-b03c8c4f5abc"
      },
      "source": [
        "sentence = [\"the\", \"quick\", \"brown\", \"fox\", \"jumped\", \"over\", \"the\", \"lazy\", \"dog\"]\n",
        "for sen in sentence:\n",
        "    print(sen)"
      ],
      "execution_count": 14,
      "outputs": [
        {
          "output_type": "stream",
          "text": [
            "the\n",
            "quick\n",
            "brown\n",
            "fox\n",
            "jumped\n",
            "over\n",
            "the\n",
            "lazy\n",
            "dog\n"
          ],
          "name": "stdout"
        }
      ]
    },
    {
      "cell_type": "code",
      "metadata": {
        "id": "YNCFuvBtVk-d",
        "colab_type": "code",
        "colab": {
          "base_uri": "https://localhost:8080/",
          "height": 123
        },
        "outputId": "e58d7570-9b11-4f93-a4a3-2e2a8b4c8d08"
      },
      "source": [
        "for i in range(5,35,5):\n",
        "    print(i)"
      ],
      "execution_count": 15,
      "outputs": [
        {
          "output_type": "stream",
          "text": [
            "5\n",
            "10\n",
            "15\n",
            "20\n",
            "25\n",
            "30\n"
          ],
          "name": "stdout"
        }
      ]
    },
    {
      "cell_type": "code",
      "metadata": {
        "id": "VQtTD0lpYCd_",
        "colab_type": "code",
        "colab": {
          "base_uri": "https://localhost:8080/",
          "height": 34
        },
        "outputId": "87d250aa-1e4a-498b-82db-6669d7626162"
      },
      "source": [
        "name=\"Ismail Ahmed\"\n",
        "name.replace(\"Ahmed\",\"Ohmed\")\n",
        "print(name.replace(\" \",\"-\"))"
      ],
      "execution_count": 23,
      "outputs": [
        {
          "output_type": "stream",
          "text": [
            "Ismail-Ahmed\n"
          ],
          "name": "stdout"
        }
      ]
    },
    {
      "cell_type": "code",
      "metadata": {
        "id": "Ym904TryWRJl",
        "colab_type": "code",
        "colab": {
          "base_uri": "https://localhost:8080/",
          "height": 34
        },
        "outputId": "c9f4b90f-fedb-4bd5-d96e-6edb9fd7b035"
      },
      "source": [
        "names = [\"Joey Tribbiani\", \"Monica Geller\", \"Chandler Bing\", \"Phoebe Buffay\"] \n",
        "username=[]\n",
        "for name in names:\n",
        "    name=name.replace(\" \",\"-\")\n",
        "    username.append(name.lower())\n",
        "print(username)"
      ],
      "execution_count": 25,
      "outputs": [
        {
          "output_type": "stream",
          "text": [
            "['joey-tribbiani', 'monica-geller', 'chandler-bing', 'phoebe-buffay']\n"
          ],
          "name": "stdout"
        }
      ]
    },
    {
      "cell_type": "code",
      "metadata": {
        "id": "Dse1SbYPZEpH",
        "colab_type": "code",
        "colab": {
          "base_uri": "https://localhost:8080/",
          "height": 34
        },
        "outputId": "8b3dc4af-eb98-4722-a309-0051cedfafdd"
      },
      "source": [
        "names = [\"Joey Tribbiani\", \"Monica Geller\", \"Chandler Bing\", \"Phoebe Buffay\"]\n",
        "\n",
        "for name in names:\n",
        "    name = name.lower().replace(\" \", \"_\")\n",
        "\n",
        "print(names)"
      ],
      "execution_count": 26,
      "outputs": [
        {
          "output_type": "stream",
          "text": [
            "['Joey Tribbiani', 'Monica Geller', 'Chandler Bing', 'Phoebe Buffay']\n"
          ],
          "name": "stdout"
        }
      ]
    },
    {
      "cell_type": "code",
      "metadata": {
        "id": "zTs5e7hqaY7t",
        "colab_type": "code",
        "colab": {}
      },
      "source": [
        "usernames = [\"Joey Tribbiani\", \"Monica Geller\", \"Chandler Bing\", \"Phoebe Buffay\"]\n",
        "\n",
        "for i in range(len(usernames)):\n",
        "    usernames[i] = usernames[i].lower().replace(\" \", \"_\")\n",
        "\n",
        "print(usernames)"
      ],
      "execution_count": 0,
      "outputs": []
    },
    {
      "cell_type": "code",
      "metadata": {
        "id": "i8yZ_PikaaL8",
        "colab_type": "code",
        "colab": {}
      },
      "source": [
        "tokens = ['<greeting>', 'Hello World!', '</greeting>']\n",
        "\n",
        "count = 0\n",
        "for token in tokens:\n",
        "    if token[0] == '<' and token[-1] == '>':\n",
        "        count += 1\n",
        "\n",
        "print(count)"
      ],
      "execution_count": 0,
      "outputs": []
    },
    {
      "cell_type": "code",
      "metadata": {
        "id": "KIgGV0Svadil",
        "colab_type": "code",
        "colab": {}
      },
      "source": [
        "items = ['first string', 'second string']\n",
        "html_str = \"<ul>\\n\"          # The \"\\n\" here is the end-of-line char, causing\n",
        "                             # chars after this in html_str to be on next line\n",
        "\n",
        "for item in items:\n",
        "    html_str += \"<li>{}</li>\\n\".format(item)\n",
        "html_str += \"</ul>\"\n",
        "\n",
        "print(html_str)"
      ],
      "execution_count": 0,
      "outputs": []
    },
    {
      "cell_type": "code",
      "metadata": {
        "id": "DXG1A2Kzbc42",
        "colab_type": "code",
        "colab": {
          "base_uri": "https://localhost:8080/",
          "height": 34
        },
        "outputId": "3e19bf69-7de4-47a4-adb4-6541b0cd8d51"
      },
      "source": [
        "colors = ['Red', 'Blue', 'Green', 'Purple']\n",
        "lower_colors = [ ]\n",
        "\n",
        "for color in colors:\n",
        "    lower_colors.append(color.lower())\n",
        "print(lower_colors)"
      ],
      "execution_count": 27,
      "outputs": [
        {
          "output_type": "stream",
          "text": [
            "['red', 'blue', 'green', 'purple']\n"
          ],
          "name": "stdout"
        }
      ]
    },
    {
      "cell_type": "code",
      "metadata": {
        "id": "r2YqdJhediXb",
        "colab_type": "code",
        "colab": {
          "base_uri": "https://localhost:8080/",
          "height": 34
        },
        "outputId": "051b44d1-47ad-45b2-ff48-c2207d3e1d71"
      },
      "source": [
        "result = 0\n",
        "basket_items = {'apples': 4, 'oranges': 19, 'kites': 3, 'sandwiches': 8}\n",
        "fruits = ['apples', 'oranges', 'pears', 'peaches', 'grapes', 'bananas']\n",
        "\n",
        "for fruit, count in basket_items.items():\n",
        "   if fruit in fruits:\n",
        "       result += count\n",
        "\n",
        "print(\"There are {} fruits in the basket.\".format(result))"
      ],
      "execution_count": 28,
      "outputs": [
        {
          "output_type": "stream",
          "text": [
            "There are 23 fruits in the basket.\n"
          ],
          "name": "stdout"
        }
      ]
    },
    {
      "cell_type": "code",
      "metadata": {
        "id": "r78ax2HkdkP7",
        "colab_type": "code",
        "colab": {
          "base_uri": "https://localhost:8080/",
          "height": 34
        },
        "outputId": "891bf862-87aa-484a-cfc0-14cb7b9aaa5e"
      },
      "source": [
        "fruit_count, not_fruit_count = 0, 0\n",
        "basket_items = {'apples': 4, 'oranges': 19, 'kites': 3, 'sandwiches': 8}\n",
        "fruits = ['apples', 'oranges', 'pears', 'peaches', 'grapes', 'bananas']\n",
        "\n",
        "#Iterate through the dictionary\n",
        "for fruit, count in basket_items.items():\n",
        "    if fruit in fruits:\n",
        "       fruit_count += count\n",
        "    else:\n",
        "        not_fruit_count += count\n",
        "\n",
        "print(\"The number of fruits is {}.  There are {} items that are not fruits.\".format(fruit_count, not_fruit_count))"
      ],
      "execution_count": 29,
      "outputs": [
        {
          "output_type": "stream",
          "text": [
            "The number of fruits is 23.  There are 11 items that are not fruits.\n"
          ],
          "name": "stdout"
        }
      ]
    }
  ]
}